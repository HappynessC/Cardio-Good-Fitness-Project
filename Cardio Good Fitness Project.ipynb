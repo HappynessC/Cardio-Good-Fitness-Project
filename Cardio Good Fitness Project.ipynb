{
 "cells": [
  {
   "cell_type": "markdown",
   "id": "0620fe6f",
   "metadata": {},
   "source": [
    "## INTRODUCTION\n",
    "This data is about customers of the treadmill product(s) of a retail store called Cardio Good Fitness. This data includes the product's model, and customers information such as, age, gender, years of education, marital status, usage time, fitness rate, income earned and miles that a customer expects to run."
   ]
  },
  {
   "cell_type": "markdown",
   "id": "73f6d30c",
   "metadata": {},
   "source": [
    "## OBJECTIVE\n",
    "- Come up with a customer profile (characteristics of a customer) of the different products.\n",
    "\n",
    "- Perform univariate and multivariate analyses.\n",
    "\n",
    "- Generate a set of insights and recommendations that will help the company in targeting new customers."
   ]
  },
  {
   "cell_type": "code",
   "execution_count": 1,
   "id": "f47e2234",
   "metadata": {},
   "outputs": [],
   "source": [
    "# import the required libraries\n",
    "import pandas as pd\n",
    "import numpy as np\n",
    "import seaborn as sns\n",
    "import matplotlib.pyplot as plt\n",
    "%matplotlib inline"
   ]
  },
  {
   "cell_type": "code",
   "execution_count": 2,
   "id": "38dc0227",
   "metadata": {},
   "outputs": [
    {
     "data": {
      "text/html": [
       "<div>\n",
       "<style scoped>\n",
       "    .dataframe tbody tr th:only-of-type {\n",
       "        vertical-align: middle;\n",
       "    }\n",
       "\n",
       "    .dataframe tbody tr th {\n",
       "        vertical-align: top;\n",
       "    }\n",
       "\n",
       "    .dataframe thead th {\n",
       "        text-align: right;\n",
       "    }\n",
       "</style>\n",
       "<table border=\"1\" class=\"dataframe\">\n",
       "  <thead>\n",
       "    <tr style=\"text-align: right;\">\n",
       "      <th></th>\n",
       "      <th>Product</th>\n",
       "      <th>Age</th>\n",
       "      <th>Gender</th>\n",
       "      <th>Education</th>\n",
       "      <th>MaritalStatus</th>\n",
       "      <th>Usage</th>\n",
       "      <th>Fitness</th>\n",
       "      <th>Income</th>\n",
       "      <th>Miles</th>\n",
       "    </tr>\n",
       "  </thead>\n",
       "  <tbody>\n",
       "    <tr>\n",
       "      <th>0</th>\n",
       "      <td>TM195</td>\n",
       "      <td>18</td>\n",
       "      <td>Male</td>\n",
       "      <td>14</td>\n",
       "      <td>Single</td>\n",
       "      <td>3</td>\n",
       "      <td>4</td>\n",
       "      <td>29562</td>\n",
       "      <td>112</td>\n",
       "    </tr>\n",
       "    <tr>\n",
       "      <th>1</th>\n",
       "      <td>TM195</td>\n",
       "      <td>19</td>\n",
       "      <td>Male</td>\n",
       "      <td>15</td>\n",
       "      <td>Single</td>\n",
       "      <td>2</td>\n",
       "      <td>3</td>\n",
       "      <td>31836</td>\n",
       "      <td>75</td>\n",
       "    </tr>\n",
       "    <tr>\n",
       "      <th>2</th>\n",
       "      <td>TM195</td>\n",
       "      <td>19</td>\n",
       "      <td>Female</td>\n",
       "      <td>14</td>\n",
       "      <td>Partnered</td>\n",
       "      <td>4</td>\n",
       "      <td>3</td>\n",
       "      <td>30699</td>\n",
       "      <td>66</td>\n",
       "    </tr>\n",
       "    <tr>\n",
       "      <th>3</th>\n",
       "      <td>TM195</td>\n",
       "      <td>19</td>\n",
       "      <td>Male</td>\n",
       "      <td>12</td>\n",
       "      <td>Single</td>\n",
       "      <td>3</td>\n",
       "      <td>3</td>\n",
       "      <td>32973</td>\n",
       "      <td>85</td>\n",
       "    </tr>\n",
       "    <tr>\n",
       "      <th>4</th>\n",
       "      <td>TM195</td>\n",
       "      <td>20</td>\n",
       "      <td>Male</td>\n",
       "      <td>13</td>\n",
       "      <td>Partnered</td>\n",
       "      <td>4</td>\n",
       "      <td>2</td>\n",
       "      <td>35247</td>\n",
       "      <td>47</td>\n",
       "    </tr>\n",
       "    <tr>\n",
       "      <th>...</th>\n",
       "      <td>...</td>\n",
       "      <td>...</td>\n",
       "      <td>...</td>\n",
       "      <td>...</td>\n",
       "      <td>...</td>\n",
       "      <td>...</td>\n",
       "      <td>...</td>\n",
       "      <td>...</td>\n",
       "      <td>...</td>\n",
       "    </tr>\n",
       "    <tr>\n",
       "      <th>175</th>\n",
       "      <td>TM798</td>\n",
       "      <td>40</td>\n",
       "      <td>Male</td>\n",
       "      <td>21</td>\n",
       "      <td>Single</td>\n",
       "      <td>6</td>\n",
       "      <td>5</td>\n",
       "      <td>83416</td>\n",
       "      <td>200</td>\n",
       "    </tr>\n",
       "    <tr>\n",
       "      <th>176</th>\n",
       "      <td>TM798</td>\n",
       "      <td>42</td>\n",
       "      <td>Male</td>\n",
       "      <td>18</td>\n",
       "      <td>Single</td>\n",
       "      <td>5</td>\n",
       "      <td>4</td>\n",
       "      <td>89641</td>\n",
       "      <td>200</td>\n",
       "    </tr>\n",
       "    <tr>\n",
       "      <th>177</th>\n",
       "      <td>TM798</td>\n",
       "      <td>45</td>\n",
       "      <td>Male</td>\n",
       "      <td>16</td>\n",
       "      <td>Single</td>\n",
       "      <td>5</td>\n",
       "      <td>5</td>\n",
       "      <td>90886</td>\n",
       "      <td>160</td>\n",
       "    </tr>\n",
       "    <tr>\n",
       "      <th>178</th>\n",
       "      <td>TM798</td>\n",
       "      <td>47</td>\n",
       "      <td>Male</td>\n",
       "      <td>18</td>\n",
       "      <td>Partnered</td>\n",
       "      <td>4</td>\n",
       "      <td>5</td>\n",
       "      <td>104581</td>\n",
       "      <td>120</td>\n",
       "    </tr>\n",
       "    <tr>\n",
       "      <th>179</th>\n",
       "      <td>TM798</td>\n",
       "      <td>48</td>\n",
       "      <td>Male</td>\n",
       "      <td>18</td>\n",
       "      <td>Partnered</td>\n",
       "      <td>4</td>\n",
       "      <td>5</td>\n",
       "      <td>95508</td>\n",
       "      <td>180</td>\n",
       "    </tr>\n",
       "  </tbody>\n",
       "</table>\n",
       "<p>180 rows × 9 columns</p>\n",
       "</div>"
      ],
      "text/plain": [
       "    Product  Age  Gender  Education MaritalStatus  Usage  Fitness  Income  \\\n",
       "0     TM195   18    Male         14        Single      3        4   29562   \n",
       "1     TM195   19    Male         15        Single      2        3   31836   \n",
       "2     TM195   19  Female         14     Partnered      4        3   30699   \n",
       "3     TM195   19    Male         12        Single      3        3   32973   \n",
       "4     TM195   20    Male         13     Partnered      4        2   35247   \n",
       "..      ...  ...     ...        ...           ...    ...      ...     ...   \n",
       "175   TM798   40    Male         21        Single      6        5   83416   \n",
       "176   TM798   42    Male         18        Single      5        4   89641   \n",
       "177   TM798   45    Male         16        Single      5        5   90886   \n",
       "178   TM798   47    Male         18     Partnered      4        5  104581   \n",
       "179   TM798   48    Male         18     Partnered      4        5   95508   \n",
       "\n",
       "     Miles  \n",
       "0      112  \n",
       "1       75  \n",
       "2       66  \n",
       "3       85  \n",
       "4       47  \n",
       "..     ...  \n",
       "175    200  \n",
       "176    200  \n",
       "177    160  \n",
       "178    120  \n",
       "179    180  \n",
       "\n",
       "[180 rows x 9 columns]"
      ]
     },
     "execution_count": 2,
     "metadata": {},
     "output_type": "execute_result"
    }
   ],
   "source": [
    "cardio_df = pd.read_csv('CardioGoodFitness-1.csv')\n",
    "cardio_df"
   ]
  },
  {
   "cell_type": "markdown",
   "id": "a4c69910",
   "metadata": {},
   "source": [
    "**From the above cell, we can see the first five rows and last five rows of the dataset**"
   ]
  },
  {
   "cell_type": "markdown",
   "id": "1f82d9b0",
   "metadata": {},
   "source": [
    "### EXPLORATORY DATA ANALYSIS (EDA)"
   ]
  },
  {
   "cell_type": "code",
   "execution_count": 3,
   "id": "6025bc16",
   "metadata": {},
   "outputs": [
    {
     "name": "stdout",
     "output_type": "stream",
     "text": [
      "<class 'pandas.core.frame.DataFrame'>\n",
      "RangeIndex: 180 entries, 0 to 179\n",
      "Data columns (total 9 columns):\n",
      " #   Column         Non-Null Count  Dtype \n",
      "---  ------         --------------  ----- \n",
      " 0   Product        180 non-null    object\n",
      " 1   Age            180 non-null    int64 \n",
      " 2   Gender         180 non-null    object\n",
      " 3   Education      180 non-null    int64 \n",
      " 4   MaritalStatus  180 non-null    object\n",
      " 5   Usage          180 non-null    int64 \n",
      " 6   Fitness        180 non-null    int64 \n",
      " 7   Income         180 non-null    int64 \n",
      " 8   Miles          180 non-null    int64 \n",
      "dtypes: int64(6), object(3)\n",
      "memory usage: 12.8+ KB\n"
     ]
    }
   ],
   "source": [
    "# checking the comprehensive information of the data\n",
    "cardio_df.info()"
   ]
  },
  {
   "cell_type": "code",
   "execution_count": 4,
   "id": "de21e88d",
   "metadata": {},
   "outputs": [
    {
     "data": {
      "text/plain": [
       "Product          object\n",
       "Age               int64\n",
       "Gender           object\n",
       "Education         int64\n",
       "MaritalStatus    object\n",
       "Usage             int64\n",
       "Fitness           int64\n",
       "Income            int64\n",
       "Miles             int64\n",
       "dtype: object"
      ]
     },
     "execution_count": 4,
     "metadata": {},
     "output_type": "execute_result"
    }
   ],
   "source": [
    "# Confirming the datatypes\n",
    "cardio_df.dtypes"
   ]
  },
  {
   "cell_type": "code",
   "execution_count": 5,
   "id": "349f63fa",
   "metadata": {},
   "outputs": [
    {
     "data": {
      "text/plain": [
       "Product          0\n",
       "Age              0\n",
       "Gender           0\n",
       "Education        0\n",
       "MaritalStatus    0\n",
       "Usage            0\n",
       "Fitness          0\n",
       "Income           0\n",
       "Miles            0\n",
       "dtype: int64"
      ]
     },
     "execution_count": 5,
     "metadata": {},
     "output_type": "execute_result"
    }
   ],
   "source": [
    "cardio_df.isnull().sum()  # checking for missing values"
   ]
  },
  {
   "cell_type": "code",
   "execution_count": 6,
   "id": "27ecf200",
   "metadata": {},
   "outputs": [
    {
     "data": {
      "text/html": [
       "<div>\n",
       "<style scoped>\n",
       "    .dataframe tbody tr th:only-of-type {\n",
       "        vertical-align: middle;\n",
       "    }\n",
       "\n",
       "    .dataframe tbody tr th {\n",
       "        vertical-align: top;\n",
       "    }\n",
       "\n",
       "    .dataframe thead th {\n",
       "        text-align: right;\n",
       "    }\n",
       "</style>\n",
       "<table border=\"1\" class=\"dataframe\">\n",
       "  <thead>\n",
       "    <tr style=\"text-align: right;\">\n",
       "      <th></th>\n",
       "      <th>Product</th>\n",
       "      <th>Age</th>\n",
       "      <th>Gender</th>\n",
       "      <th>Education</th>\n",
       "      <th>MaritalStatus</th>\n",
       "      <th>Usage</th>\n",
       "      <th>Fitness</th>\n",
       "      <th>Income</th>\n",
       "      <th>Miles</th>\n",
       "    </tr>\n",
       "  </thead>\n",
       "  <tbody>\n",
       "  </tbody>\n",
       "</table>\n",
       "</div>"
      ],
      "text/plain": [
       "Empty DataFrame\n",
       "Columns: [Product, Age, Gender, Education, MaritalStatus, Usage, Fitness, Income, Miles]\n",
       "Index: []"
      ]
     },
     "execution_count": 6,
     "metadata": {},
     "output_type": "execute_result"
    }
   ],
   "source": [
    "#checking for duplicates\n",
    "cardio_df[cardio_df.duplicated()]"
   ]
  },
  {
   "cell_type": "code",
   "execution_count": 7,
   "id": "139768e4",
   "metadata": {},
   "outputs": [
    {
     "data": {
      "text/plain": [
       "(180, 9)"
      ]
     },
     "execution_count": 7,
     "metadata": {},
     "output_type": "execute_result"
    }
   ],
   "source": [
    "cardio_df.shape # confirming the shape of the data"
   ]
  },
  {
   "cell_type": "code",
   "execution_count": 8,
   "id": "464d4a27",
   "metadata": {},
   "outputs": [
    {
     "data": {
      "text/html": [
       "<div>\n",
       "<style scoped>\n",
       "    .dataframe tbody tr th:only-of-type {\n",
       "        vertical-align: middle;\n",
       "    }\n",
       "\n",
       "    .dataframe tbody tr th {\n",
       "        vertical-align: top;\n",
       "    }\n",
       "\n",
       "    .dataframe thead th {\n",
       "        text-align: right;\n",
       "    }\n",
       "</style>\n",
       "<table border=\"1\" class=\"dataframe\">\n",
       "  <thead>\n",
       "    <tr style=\"text-align: right;\">\n",
       "      <th></th>\n",
       "      <th>Product</th>\n",
       "      <th>Age</th>\n",
       "      <th>Gender</th>\n",
       "      <th>Education</th>\n",
       "      <th>MaritalStatus</th>\n",
       "      <th>Usage</th>\n",
       "      <th>Fitness</th>\n",
       "      <th>Income</th>\n",
       "      <th>Miles</th>\n",
       "    </tr>\n",
       "  </thead>\n",
       "  <tbody>\n",
       "    <tr>\n",
       "      <th>count</th>\n",
       "      <td>180</td>\n",
       "      <td>180.000000</td>\n",
       "      <td>180</td>\n",
       "      <td>180.000000</td>\n",
       "      <td>180</td>\n",
       "      <td>180.000000</td>\n",
       "      <td>180.000000</td>\n",
       "      <td>180.000000</td>\n",
       "      <td>180.000000</td>\n",
       "    </tr>\n",
       "    <tr>\n",
       "      <th>unique</th>\n",
       "      <td>3</td>\n",
       "      <td>NaN</td>\n",
       "      <td>2</td>\n",
       "      <td>NaN</td>\n",
       "      <td>2</td>\n",
       "      <td>NaN</td>\n",
       "      <td>NaN</td>\n",
       "      <td>NaN</td>\n",
       "      <td>NaN</td>\n",
       "    </tr>\n",
       "    <tr>\n",
       "      <th>top</th>\n",
       "      <td>TM195</td>\n",
       "      <td>NaN</td>\n",
       "      <td>Male</td>\n",
       "      <td>NaN</td>\n",
       "      <td>Partnered</td>\n",
       "      <td>NaN</td>\n",
       "      <td>NaN</td>\n",
       "      <td>NaN</td>\n",
       "      <td>NaN</td>\n",
       "    </tr>\n",
       "    <tr>\n",
       "      <th>freq</th>\n",
       "      <td>80</td>\n",
       "      <td>NaN</td>\n",
       "      <td>104</td>\n",
       "      <td>NaN</td>\n",
       "      <td>107</td>\n",
       "      <td>NaN</td>\n",
       "      <td>NaN</td>\n",
       "      <td>NaN</td>\n",
       "      <td>NaN</td>\n",
       "    </tr>\n",
       "    <tr>\n",
       "      <th>mean</th>\n",
       "      <td>NaN</td>\n",
       "      <td>28.788889</td>\n",
       "      <td>NaN</td>\n",
       "      <td>15.572222</td>\n",
       "      <td>NaN</td>\n",
       "      <td>3.455556</td>\n",
       "      <td>3.311111</td>\n",
       "      <td>53719.577778</td>\n",
       "      <td>103.194444</td>\n",
       "    </tr>\n",
       "    <tr>\n",
       "      <th>std</th>\n",
       "      <td>NaN</td>\n",
       "      <td>6.943498</td>\n",
       "      <td>NaN</td>\n",
       "      <td>1.617055</td>\n",
       "      <td>NaN</td>\n",
       "      <td>1.084797</td>\n",
       "      <td>0.958869</td>\n",
       "      <td>16506.684226</td>\n",
       "      <td>51.863605</td>\n",
       "    </tr>\n",
       "    <tr>\n",
       "      <th>min</th>\n",
       "      <td>NaN</td>\n",
       "      <td>18.000000</td>\n",
       "      <td>NaN</td>\n",
       "      <td>12.000000</td>\n",
       "      <td>NaN</td>\n",
       "      <td>2.000000</td>\n",
       "      <td>1.000000</td>\n",
       "      <td>29562.000000</td>\n",
       "      <td>21.000000</td>\n",
       "    </tr>\n",
       "    <tr>\n",
       "      <th>25%</th>\n",
       "      <td>NaN</td>\n",
       "      <td>24.000000</td>\n",
       "      <td>NaN</td>\n",
       "      <td>14.000000</td>\n",
       "      <td>NaN</td>\n",
       "      <td>3.000000</td>\n",
       "      <td>3.000000</td>\n",
       "      <td>44058.750000</td>\n",
       "      <td>66.000000</td>\n",
       "    </tr>\n",
       "    <tr>\n",
       "      <th>50%</th>\n",
       "      <td>NaN</td>\n",
       "      <td>26.000000</td>\n",
       "      <td>NaN</td>\n",
       "      <td>16.000000</td>\n",
       "      <td>NaN</td>\n",
       "      <td>3.000000</td>\n",
       "      <td>3.000000</td>\n",
       "      <td>50596.500000</td>\n",
       "      <td>94.000000</td>\n",
       "    </tr>\n",
       "    <tr>\n",
       "      <th>75%</th>\n",
       "      <td>NaN</td>\n",
       "      <td>33.000000</td>\n",
       "      <td>NaN</td>\n",
       "      <td>16.000000</td>\n",
       "      <td>NaN</td>\n",
       "      <td>4.000000</td>\n",
       "      <td>4.000000</td>\n",
       "      <td>58668.000000</td>\n",
       "      <td>114.750000</td>\n",
       "    </tr>\n",
       "    <tr>\n",
       "      <th>max</th>\n",
       "      <td>NaN</td>\n",
       "      <td>50.000000</td>\n",
       "      <td>NaN</td>\n",
       "      <td>21.000000</td>\n",
       "      <td>NaN</td>\n",
       "      <td>7.000000</td>\n",
       "      <td>5.000000</td>\n",
       "      <td>104581.000000</td>\n",
       "      <td>360.000000</td>\n",
       "    </tr>\n",
       "  </tbody>\n",
       "</table>\n",
       "</div>"
      ],
      "text/plain": [
       "       Product         Age Gender   Education MaritalStatus       Usage  \\\n",
       "count      180  180.000000    180  180.000000           180  180.000000   \n",
       "unique       3         NaN      2         NaN             2         NaN   \n",
       "top      TM195         NaN   Male         NaN     Partnered         NaN   \n",
       "freq        80         NaN    104         NaN           107         NaN   \n",
       "mean       NaN   28.788889    NaN   15.572222           NaN    3.455556   \n",
       "std        NaN    6.943498    NaN    1.617055           NaN    1.084797   \n",
       "min        NaN   18.000000    NaN   12.000000           NaN    2.000000   \n",
       "25%        NaN   24.000000    NaN   14.000000           NaN    3.000000   \n",
       "50%        NaN   26.000000    NaN   16.000000           NaN    3.000000   \n",
       "75%        NaN   33.000000    NaN   16.000000           NaN    4.000000   \n",
       "max        NaN   50.000000    NaN   21.000000           NaN    7.000000   \n",
       "\n",
       "           Fitness         Income       Miles  \n",
       "count   180.000000     180.000000  180.000000  \n",
       "unique         NaN            NaN         NaN  \n",
       "top            NaN            NaN         NaN  \n",
       "freq           NaN            NaN         NaN  \n",
       "mean      3.311111   53719.577778  103.194444  \n",
       "std       0.958869   16506.684226   51.863605  \n",
       "min       1.000000   29562.000000   21.000000  \n",
       "25%       3.000000   44058.750000   66.000000  \n",
       "50%       3.000000   50596.500000   94.000000  \n",
       "75%       4.000000   58668.000000  114.750000  \n",
       "max       5.000000  104581.000000  360.000000  "
      ]
     },
     "execution_count": 8,
     "metadata": {},
     "output_type": "execute_result"
    }
   ],
   "source": [
    "cardio_df.describe(include='all') # checking the statistical summary of the data"
   ]
  },
  {
   "cell_type": "markdown",
   "id": "f5f48cd6",
   "metadata": {},
   "source": [
    "#### From the Analysis:\n",
    "- **There are 9 columns:**\n",
    "     - Numeric   **6**\n",
    "     - Categorical  **3**\n",
    "\n",
    "\n",
    "- **And 180 rows:**\n",
    "\n",
    "\n",
    "- **0 Missing values**\n",
    "\n",
    "**NOTE:**\n",
    "Although there are no missing values, it is still possible for the columns to contain empty strings or blank values. Therefore, the absence of missing values in a column does not necessarily indicate the absence of such inconsistencies in the data set. In other words, the presence of empty strings or blank values does not necessarily mean that there are missing values in the column.\n",
    "\n",
    "\n",
    "- **There are no Duplicate rows in the dataset**\n",
    "\n",
    "#### From the Statistical summary:\n",
    " - Product column has **3** unique entries of which **TM195** is the top product with **80** frequency.\n",
    " \n",
    " \n",
    " - Age column: The **minimum age is 18** and **maximum is 50**, the **mean is 27.788** and **median is 26**, **the 25th percentile** indicates that 25% of the customers are less than or equal to 24. The **50th percentile** indicates that 50% of the customers are less than or equal to 26, and **the 75th percentile** indicates that 75% of the customers are less than or equal to 33.\n",
    " \n",
    " \n",
    " - Gender column has **2** unique entries of which **Male** is the top gender with **104** frequency.\n",
    " \n",
    " \n",
    " - Education column: The **minimum years is 12** and **maximum is 21**, the **mean is 15.572** and **median is 16**, **the 25th percentile** indicates that 25% of the years of education are less than or equal to 14. The **50th percentile** indicates that 50% of the years of education are less than or equal to 16, and **the 75th percentile** indicates that 75% of the years of education are less than or equal to 16.\n",
    " \n",
    " \n",
    " - MaritalStatus column has **2** unique entries of which **Partnered** is the top gender with **107** frequency.\n",
    " \n",
    " \n",
    " - Income column: The **minimum income earned is 29562** and **maximum is 104581**, the **mean is 53719.577** and **median is 50596.5**, **the 25th percentile** indicates that 25% of the customers earn less than or equal to 44058.75. The **50th percentile** indicates that 50% of the customers earn less than or equal to 50596.5, and **the 75th percentile** indicates that 75% of the customers earn are less than or equal to 58668."
   ]
  },
  {
   "cell_type": "markdown",
   "id": "704a836a",
   "metadata": {},
   "source": [
    "### Product column"
   ]
  },
  {
   "cell_type": "code",
   "execution_count": 9,
   "id": "a28afe51",
   "metadata": {},
   "outputs": [
    {
     "data": {
      "text/plain": [
       "False"
      ]
     },
     "execution_count": 9,
     "metadata": {},
     "output_type": "execute_result"
    }
   ],
   "source": [
    "cardio_df['Product'].isnull().any() # Confirmation that there are no missing values"
   ]
  },
  {
   "cell_type": "code",
   "execution_count": 10,
   "id": "58552dc3",
   "metadata": {},
   "outputs": [
    {
     "data": {
      "text/plain": [
       "dtype('O')"
      ]
     },
     "execution_count": 10,
     "metadata": {},
     "output_type": "execute_result"
    }
   ],
   "source": [
    "cardio_df['Product'].dtypes # Confirmation of the datatype"
   ]
  },
  {
   "cell_type": "code",
   "execution_count": 11,
   "id": "81e615ea",
   "metadata": {},
   "outputs": [
    {
     "data": {
      "text/plain": [
       "array(['TM195', 'TM498', 'TM798'], dtype=object)"
      ]
     },
     "execution_count": 11,
     "metadata": {},
     "output_type": "execute_result"
    }
   ],
   "source": [
    "# Identifying the possible entries of the 'Product' column  \n",
    "cardio_df['Product'].unique()"
   ]
  },
  {
   "cell_type": "markdown",
   "id": "1ebd321d",
   "metadata": {},
   "source": [
    "**There are three (3) treadmill products sold by The Cardio Good Fitness**"
   ]
  },
  {
   "cell_type": "code",
   "execution_count": 12,
   "id": "3422021b",
   "metadata": {},
   "outputs": [
    {
     "data": {
      "text/html": [
       "<div>\n",
       "<style scoped>\n",
       "    .dataframe tbody tr th:only-of-type {\n",
       "        vertical-align: middle;\n",
       "    }\n",
       "\n",
       "    .dataframe tbody tr th {\n",
       "        vertical-align: top;\n",
       "    }\n",
       "\n",
       "    .dataframe thead th {\n",
       "        text-align: right;\n",
       "    }\n",
       "</style>\n",
       "<table border=\"1\" class=\"dataframe\">\n",
       "  <thead>\n",
       "    <tr style=\"text-align: right;\">\n",
       "      <th></th>\n",
       "      <th>Product</th>\n",
       "      <th>Age</th>\n",
       "      <th>Gender</th>\n",
       "      <th>Education</th>\n",
       "      <th>MaritalStatus</th>\n",
       "      <th>Usage</th>\n",
       "      <th>Fitness</th>\n",
       "      <th>Income</th>\n",
       "      <th>Miles</th>\n",
       "    </tr>\n",
       "  </thead>\n",
       "  <tbody>\n",
       "  </tbody>\n",
       "</table>\n",
       "</div>"
      ],
      "text/plain": [
       "Empty DataFrame\n",
       "Columns: [Product, Age, Gender, Education, MaritalStatus, Usage, Fitness, Income, Miles]\n",
       "Index: []"
      ]
     },
     "execution_count": 12,
     "metadata": {},
     "output_type": "execute_result"
    }
   ],
   "source": [
    "# checking for blank spaces\n",
    "cardio_df[cardio_df['Product'] == ' ']"
   ]
  },
  {
   "cell_type": "code",
   "execution_count": 13,
   "id": "e6b7d857",
   "metadata": {},
   "outputs": [
    {
     "data": {
      "text/plain": [
       "0    TM195\n",
       "Name: Product, dtype: object"
      ]
     },
     "execution_count": 13,
     "metadata": {},
     "output_type": "execute_result"
    }
   ],
   "source": [
    "cardio_df['Product'].mode() #checking the most sold product"
   ]
  },
  {
   "cell_type": "code",
   "execution_count": 14,
   "id": "358cfd93",
   "metadata": {},
   "outputs": [
    {
     "data": {
      "text/plain": [
       "TM195    80\n",
       "TM498    60\n",
       "TM798    40\n",
       "Name: Product, dtype: int64"
      ]
     },
     "execution_count": 14,
     "metadata": {},
     "output_type": "execute_result"
    }
   ],
   "source": [
    "cardio_df['Product'].value_counts() # checking the number of occurrences"
   ]
  },
  {
   "cell_type": "markdown",
   "id": "97f24e56",
   "metadata": {},
   "source": [
    "- **Observation on the Product column**\n",
    "\n",
    "    - 0 missing values\n",
    "    - 0 inconsistencies\n",
    "    - 0 empty strings\n",
    "    - Appropriate datatype\n",
    "    - There are 3 treadmill products sold by The Cardio Good Fitness\n",
    "    - TM195 is the most sold product\n",
    "    - 80 customers purchased TM195 while the remaining 100 customers purchased the other products"
   ]
  },
  {
   "cell_type": "markdown",
   "id": "6468d358",
   "metadata": {},
   "source": [
    "### Age column"
   ]
  },
  {
   "cell_type": "code",
   "execution_count": 15,
   "id": "faa078ef",
   "metadata": {},
   "outputs": [
    {
     "data": {
      "text/plain": [
       "False"
      ]
     },
     "execution_count": 15,
     "metadata": {},
     "output_type": "execute_result"
    }
   ],
   "source": [
    "cardio_df['Age'].isnull().any() # Confirmation that there are no missing values"
   ]
  },
  {
   "cell_type": "code",
   "execution_count": 16,
   "id": "c6193837",
   "metadata": {},
   "outputs": [
    {
     "data": {
      "text/plain": [
       "dtype('int64')"
      ]
     },
     "execution_count": 16,
     "metadata": {},
     "output_type": "execute_result"
    }
   ],
   "source": [
    "cardio_df['Age'].dtypes # Confirmation of the datatype"
   ]
  },
  {
   "cell_type": "code",
   "execution_count": 17,
   "id": "be2114d5",
   "metadata": {},
   "outputs": [
    {
     "data": {
      "text/plain": [
       "array([18, 19, 20, 21, 22, 23, 24, 25, 26, 27, 28, 29, 30, 31, 32, 33, 34,\n",
       "       35, 36, 37, 38, 39, 40, 41, 43, 44, 46, 47, 50, 45, 48, 42],\n",
       "      dtype=int64)"
      ]
     },
     "execution_count": 17,
     "metadata": {},
     "output_type": "execute_result"
    }
   ],
   "source": [
    "# Identifying the possible entries of the 'Age' column  \n",
    "cardio_df['Age'].unique()"
   ]
  },
  {
   "cell_type": "code",
   "execution_count": 18,
   "id": "2d94dfbf",
   "metadata": {},
   "outputs": [
    {
     "data": {
      "text/html": [
       "<div>\n",
       "<style scoped>\n",
       "    .dataframe tbody tr th:only-of-type {\n",
       "        vertical-align: middle;\n",
       "    }\n",
       "\n",
       "    .dataframe tbody tr th {\n",
       "        vertical-align: top;\n",
       "    }\n",
       "\n",
       "    .dataframe thead th {\n",
       "        text-align: right;\n",
       "    }\n",
       "</style>\n",
       "<table border=\"1\" class=\"dataframe\">\n",
       "  <thead>\n",
       "    <tr style=\"text-align: right;\">\n",
       "      <th></th>\n",
       "      <th>Product</th>\n",
       "      <th>Age</th>\n",
       "      <th>Gender</th>\n",
       "      <th>Education</th>\n",
       "      <th>MaritalStatus</th>\n",
       "      <th>Usage</th>\n",
       "      <th>Fitness</th>\n",
       "      <th>Income</th>\n",
       "      <th>Miles</th>\n",
       "    </tr>\n",
       "  </thead>\n",
       "  <tbody>\n",
       "    <tr>\n",
       "      <th>79</th>\n",
       "      <td>TM195</td>\n",
       "      <td>50</td>\n",
       "      <td>Female</td>\n",
       "      <td>16</td>\n",
       "      <td>Partnered</td>\n",
       "      <td>3</td>\n",
       "      <td>3</td>\n",
       "      <td>64809</td>\n",
       "      <td>66</td>\n",
       "    </tr>\n",
       "  </tbody>\n",
       "</table>\n",
       "</div>"
      ],
      "text/plain": [
       "   Product  Age  Gender  Education MaritalStatus  Usage  Fitness  Income  \\\n",
       "79   TM195   50  Female         16     Partnered      3        3   64809   \n",
       "\n",
       "    Miles  \n",
       "79     66  "
      ]
     },
     "execution_count": 18,
     "metadata": {},
     "output_type": "execute_result"
    }
   ],
   "source": [
    "# checking why the mean differs from the median\n",
    "cardio_df[cardio_df['Age'] == 50] # justification that the difference was caused by an outlier "
   ]
  },
  {
   "cell_type": "code",
   "execution_count": 19,
   "id": "92d5fbc3",
   "metadata": {},
   "outputs": [
    {
     "data": {
      "text/html": [
       "<div>\n",
       "<style scoped>\n",
       "    .dataframe tbody tr th:only-of-type {\n",
       "        vertical-align: middle;\n",
       "    }\n",
       "\n",
       "    .dataframe tbody tr th {\n",
       "        vertical-align: top;\n",
       "    }\n",
       "\n",
       "    .dataframe thead th {\n",
       "        text-align: right;\n",
       "    }\n",
       "</style>\n",
       "<table border=\"1\" class=\"dataframe\">\n",
       "  <thead>\n",
       "    <tr style=\"text-align: right;\">\n",
       "      <th></th>\n",
       "      <th>Product</th>\n",
       "      <th>Age</th>\n",
       "      <th>Gender</th>\n",
       "      <th>Education</th>\n",
       "      <th>MaritalStatus</th>\n",
       "      <th>Usage</th>\n",
       "      <th>Fitness</th>\n",
       "      <th>Income</th>\n",
       "      <th>Miles</th>\n",
       "    </tr>\n",
       "  </thead>\n",
       "  <tbody>\n",
       "  </tbody>\n",
       "</table>\n",
       "</div>"
      ],
      "text/plain": [
       "Empty DataFrame\n",
       "Columns: [Product, Age, Gender, Education, MaritalStatus, Usage, Fitness, Income, Miles]\n",
       "Index: []"
      ]
     },
     "execution_count": 19,
     "metadata": {},
     "output_type": "execute_result"
    }
   ],
   "source": [
    "# checking for blank spaces or empty strings\n",
    "cardio_df[cardio_df['Age'] == ' ']"
   ]
  },
  {
   "cell_type": "code",
   "execution_count": 20,
   "id": "ceb4325d",
   "metadata": {},
   "outputs": [
    {
     "data": {
      "text/plain": [
       "25    25\n",
       "23    18\n",
       "24    12\n",
       "26    12\n",
       "28     9\n",
       "35     8\n",
       "33     8\n",
       "30     7\n",
       "38     7\n",
       "21     7\n",
       "22     7\n",
       "27     7\n",
       "31     6\n",
       "34     6\n",
       "29     6\n",
       "20     5\n",
       "40     5\n",
       "32     4\n",
       "19     4\n",
       "48     2\n",
       "37     2\n",
       "45     2\n",
       "47     2\n",
       "46     1\n",
       "50     1\n",
       "18     1\n",
       "44     1\n",
       "43     1\n",
       "41     1\n",
       "39     1\n",
       "36     1\n",
       "42     1\n",
       "Name: Age, dtype: int64"
      ]
     },
     "execution_count": 20,
     "metadata": {},
     "output_type": "execute_result"
    }
   ],
   "source": [
    "cardio_df['Age'].value_counts() # checking the number of occurrences for more\n",
    "                                #justification of the mean and median differnces"
   ]
  },
  {
   "cell_type": "markdown",
   "id": "b62f1178",
   "metadata": {},
   "source": [
    "- **Observation on the Age column**\n",
    "\n",
    "    - 0 missing values\n",
    "    - 0 inconsistencies\n",
    "    - 0 empty strings\n",
    "    - Appropriate datatype"
   ]
  },
  {
   "cell_type": "markdown",
   "id": "acfdc76c",
   "metadata": {},
   "source": [
    "### Gender column"
   ]
  },
  {
   "cell_type": "code",
   "execution_count": 21,
   "id": "13c3547e",
   "metadata": {},
   "outputs": [
    {
     "data": {
      "text/plain": [
       "False"
      ]
     },
     "execution_count": 21,
     "metadata": {},
     "output_type": "execute_result"
    }
   ],
   "source": [
    "cardio_df['Gender'].isnull().any() # Confirmation that there are no missing values"
   ]
  },
  {
   "cell_type": "code",
   "execution_count": 22,
   "id": "1f5cddb2",
   "metadata": {},
   "outputs": [
    {
     "data": {
      "text/plain": [
       "dtype('O')"
      ]
     },
     "execution_count": 22,
     "metadata": {},
     "output_type": "execute_result"
    }
   ],
   "source": [
    "cardio_df['Gender'].dtypes # Confirmation of the datatype"
   ]
  },
  {
   "cell_type": "code",
   "execution_count": 23,
   "id": "c8c853b9",
   "metadata": {},
   "outputs": [
    {
     "data": {
      "text/plain": [
       "array(['Male', 'Female'], dtype=object)"
      ]
     },
     "execution_count": 23,
     "metadata": {},
     "output_type": "execute_result"
    }
   ],
   "source": [
    "# Identifying the possible entries of the 'Gender' column  \n",
    "cardio_df['Gender'].unique()"
   ]
  },
  {
   "cell_type": "code",
   "execution_count": 24,
   "id": "5d3f40a7",
   "metadata": {},
   "outputs": [
    {
     "data": {
      "text/plain": [
       "Male      104\n",
       "Female     76\n",
       "Name: Gender, dtype: int64"
      ]
     },
     "execution_count": 24,
     "metadata": {},
     "output_type": "execute_result"
    }
   ],
   "source": [
    "cardio_df['Gender'].value_counts() # checking the number of occurrences"
   ]
  },
  {
   "cell_type": "code",
   "execution_count": 25,
   "id": "01779353",
   "metadata": {},
   "outputs": [
    {
     "data": {
      "text/html": [
       "<div>\n",
       "<style scoped>\n",
       "    .dataframe tbody tr th:only-of-type {\n",
       "        vertical-align: middle;\n",
       "    }\n",
       "\n",
       "    .dataframe tbody tr th {\n",
       "        vertical-align: top;\n",
       "    }\n",
       "\n",
       "    .dataframe thead th {\n",
       "        text-align: right;\n",
       "    }\n",
       "</style>\n",
       "<table border=\"1\" class=\"dataframe\">\n",
       "  <thead>\n",
       "    <tr style=\"text-align: right;\">\n",
       "      <th></th>\n",
       "      <th>Product</th>\n",
       "      <th>Age</th>\n",
       "      <th>Gender</th>\n",
       "      <th>Education</th>\n",
       "      <th>MaritalStatus</th>\n",
       "      <th>Usage</th>\n",
       "      <th>Fitness</th>\n",
       "      <th>Income</th>\n",
       "      <th>Miles</th>\n",
       "    </tr>\n",
       "  </thead>\n",
       "  <tbody>\n",
       "  </tbody>\n",
       "</table>\n",
       "</div>"
      ],
      "text/plain": [
       "Empty DataFrame\n",
       "Columns: [Product, Age, Gender, Education, MaritalStatus, Usage, Fitness, Income, Miles]\n",
       "Index: []"
      ]
     },
     "execution_count": 25,
     "metadata": {},
     "output_type": "execute_result"
    }
   ],
   "source": [
    "# checking for blank spaces or empty strings\n",
    "cardio_df[cardio_df['Gender'] == ' ']"
   ]
  },
  {
   "cell_type": "markdown",
   "id": "15203e68",
   "metadata": {},
   "source": [
    "- **Observation on the Gender column**\n",
    "\n",
    "    - 0 missing values\n",
    "    - 0 inconsistencies\n",
    "    - 0 empty strings\n",
    "    - Appropriate datatype"
   ]
  },
  {
   "cell_type": "markdown",
   "id": "3c22ee35",
   "metadata": {},
   "source": [
    "### Education column"
   ]
  },
  {
   "cell_type": "code",
   "execution_count": 26,
   "id": "0374dee3",
   "metadata": {},
   "outputs": [
    {
     "data": {
      "text/plain": [
       "False"
      ]
     },
     "execution_count": 26,
     "metadata": {},
     "output_type": "execute_result"
    }
   ],
   "source": [
    "cardio_df['Education'].isnull().any() # Confirmation that there are no missing values"
   ]
  },
  {
   "cell_type": "code",
   "execution_count": 27,
   "id": "25d36479",
   "metadata": {},
   "outputs": [
    {
     "data": {
      "text/plain": [
       "dtype('int64')"
      ]
     },
     "execution_count": 27,
     "metadata": {},
     "output_type": "execute_result"
    }
   ],
   "source": [
    "cardio_df['Education'].dtypes # Confirmation of the datatype"
   ]
  },
  {
   "cell_type": "code",
   "execution_count": 28,
   "id": "fc6420c3",
   "metadata": {},
   "outputs": [
    {
     "data": {
      "text/plain": [
       "array([14, 15, 12, 13, 16, 18, 20, 21], dtype=int64)"
      ]
     },
     "execution_count": 28,
     "metadata": {},
     "output_type": "execute_result"
    }
   ],
   "source": [
    "# Identifying the possible entries of the 'Education' column  \n",
    "cardio_df['Education'].unique()"
   ]
  },
  {
   "cell_type": "code",
   "execution_count": 29,
   "id": "51e12bc3",
   "metadata": {},
   "outputs": [
    {
     "data": {
      "text/html": [
       "<div>\n",
       "<style scoped>\n",
       "    .dataframe tbody tr th:only-of-type {\n",
       "        vertical-align: middle;\n",
       "    }\n",
       "\n",
       "    .dataframe tbody tr th {\n",
       "        vertical-align: top;\n",
       "    }\n",
       "\n",
       "    .dataframe thead th {\n",
       "        text-align: right;\n",
       "    }\n",
       "</style>\n",
       "<table border=\"1\" class=\"dataframe\">\n",
       "  <thead>\n",
       "    <tr style=\"text-align: right;\">\n",
       "      <th></th>\n",
       "      <th>Product</th>\n",
       "      <th>Age</th>\n",
       "      <th>Gender</th>\n",
       "      <th>Education</th>\n",
       "      <th>MaritalStatus</th>\n",
       "      <th>Usage</th>\n",
       "      <th>Fitness</th>\n",
       "      <th>Income</th>\n",
       "      <th>Miles</th>\n",
       "    </tr>\n",
       "  </thead>\n",
       "  <tbody>\n",
       "  </tbody>\n",
       "</table>\n",
       "</div>"
      ],
      "text/plain": [
       "Empty DataFrame\n",
       "Columns: [Product, Age, Gender, Education, MaritalStatus, Usage, Fitness, Income, Miles]\n",
       "Index: []"
      ]
     },
     "execution_count": 29,
     "metadata": {},
     "output_type": "execute_result"
    }
   ],
   "source": [
    "# checking for blank spaces or empty strings\n",
    "cardio_df[cardio_df['Education'] == ' ']"
   ]
  },
  {
   "cell_type": "markdown",
   "id": "6f1b9501",
   "metadata": {},
   "source": [
    "- **Observation on the Education column**\n",
    "\n",
    "    - 0 missing values\n",
    "    - 0 inconsistencies\n",
    "    - 0 empty strings\n",
    "    - Appropriate datatype"
   ]
  },
  {
   "cell_type": "markdown",
   "id": "5936259c",
   "metadata": {},
   "source": [
    "### MaritalStatus column"
   ]
  },
  {
   "cell_type": "code",
   "execution_count": 30,
   "id": "83ef6792",
   "metadata": {},
   "outputs": [
    {
     "data": {
      "text/plain": [
       "False"
      ]
     },
     "execution_count": 30,
     "metadata": {},
     "output_type": "execute_result"
    }
   ],
   "source": [
    "cardio_df['MaritalStatus'].isnull().any() # Confirmation that there are no missing values"
   ]
  },
  {
   "cell_type": "code",
   "execution_count": 31,
   "id": "94c0ff2f",
   "metadata": {},
   "outputs": [
    {
     "data": {
      "text/plain": [
       "dtype('O')"
      ]
     },
     "execution_count": 31,
     "metadata": {},
     "output_type": "execute_result"
    }
   ],
   "source": [
    "cardio_df['MaritalStatus'].dtypes # Confirmation of the datatype"
   ]
  },
  {
   "cell_type": "code",
   "execution_count": 32,
   "id": "cff3554a",
   "metadata": {},
   "outputs": [
    {
     "data": {
      "text/plain": [
       "array(['Single', 'Partnered'], dtype=object)"
      ]
     },
     "execution_count": 32,
     "metadata": {},
     "output_type": "execute_result"
    }
   ],
   "source": [
    "# Identifying the possible entries of the 'MaritalStatus' column  \n",
    "cardio_df['MaritalStatus'].unique()"
   ]
  },
  {
   "cell_type": "code",
   "execution_count": 33,
   "id": "583b6d6a",
   "metadata": {},
   "outputs": [
    {
     "data": {
      "text/plain": [
       "Partnered    107\n",
       "Single        73\n",
       "Name: MaritalStatus, dtype: int64"
      ]
     },
     "execution_count": 33,
     "metadata": {},
     "output_type": "execute_result"
    }
   ],
   "source": [
    "cardio_df['MaritalStatus'].value_counts() # checking the number of occurrences"
   ]
  },
  {
   "cell_type": "code",
   "execution_count": 34,
   "id": "07e7d149",
   "metadata": {},
   "outputs": [
    {
     "data": {
      "text/html": [
       "<div>\n",
       "<style scoped>\n",
       "    .dataframe tbody tr th:only-of-type {\n",
       "        vertical-align: middle;\n",
       "    }\n",
       "\n",
       "    .dataframe tbody tr th {\n",
       "        vertical-align: top;\n",
       "    }\n",
       "\n",
       "    .dataframe thead th {\n",
       "        text-align: right;\n",
       "    }\n",
       "</style>\n",
       "<table border=\"1\" class=\"dataframe\">\n",
       "  <thead>\n",
       "    <tr style=\"text-align: right;\">\n",
       "      <th></th>\n",
       "      <th>Product</th>\n",
       "      <th>Age</th>\n",
       "      <th>Gender</th>\n",
       "      <th>Education</th>\n",
       "      <th>MaritalStatus</th>\n",
       "      <th>Usage</th>\n",
       "      <th>Fitness</th>\n",
       "      <th>Income</th>\n",
       "      <th>Miles</th>\n",
       "    </tr>\n",
       "  </thead>\n",
       "  <tbody>\n",
       "  </tbody>\n",
       "</table>\n",
       "</div>"
      ],
      "text/plain": [
       "Empty DataFrame\n",
       "Columns: [Product, Age, Gender, Education, MaritalStatus, Usage, Fitness, Income, Miles]\n",
       "Index: []"
      ]
     },
     "execution_count": 34,
     "metadata": {},
     "output_type": "execute_result"
    }
   ],
   "source": [
    "# checking for blank spaces or empty strings\n",
    "cardio_df[cardio_df['MaritalStatus'] == ' ']"
   ]
  },
  {
   "cell_type": "markdown",
   "id": "a5d3c740",
   "metadata": {},
   "source": [
    "- **Observation on the MaritalStatus column**\n",
    "\n",
    "    - 0 missing values\n",
    "    - 0 inconsistencies\n",
    "    - 0 empty strings\n",
    "    - Appropriate datatype"
   ]
  },
  {
   "cell_type": "markdown",
   "id": "0db98a35",
   "metadata": {},
   "source": [
    "### Usage column"
   ]
  },
  {
   "cell_type": "code",
   "execution_count": 35,
   "id": "f71237ef",
   "metadata": {},
   "outputs": [
    {
     "data": {
      "text/plain": [
       "False"
      ]
     },
     "execution_count": 35,
     "metadata": {},
     "output_type": "execute_result"
    }
   ],
   "source": [
    "cardio_df['Usage'].isnull().any() # Confirmation that there are no missing values"
   ]
  },
  {
   "cell_type": "code",
   "execution_count": 36,
   "id": "67e649d1",
   "metadata": {},
   "outputs": [
    {
     "data": {
      "text/plain": [
       "dtype('int64')"
      ]
     },
     "execution_count": 36,
     "metadata": {},
     "output_type": "execute_result"
    }
   ],
   "source": [
    "cardio_df['Usage'].dtypes # Confirmation of the datatype"
   ]
  },
  {
   "cell_type": "code",
   "execution_count": 37,
   "id": "b97d300e",
   "metadata": {},
   "outputs": [
    {
     "data": {
      "text/plain": [
       "array([3, 2, 4, 5, 6, 7], dtype=int64)"
      ]
     },
     "execution_count": 37,
     "metadata": {},
     "output_type": "execute_result"
    }
   ],
   "source": [
    "# Identifying the possible entries of the 'Usage' column  \n",
    "cardio_df['Usage'].unique()"
   ]
  },
  {
   "cell_type": "code",
   "execution_count": 38,
   "id": "c1b77d94",
   "metadata": {},
   "outputs": [
    {
     "data": {
      "text/html": [
       "<div>\n",
       "<style scoped>\n",
       "    .dataframe tbody tr th:only-of-type {\n",
       "        vertical-align: middle;\n",
       "    }\n",
       "\n",
       "    .dataframe tbody tr th {\n",
       "        vertical-align: top;\n",
       "    }\n",
       "\n",
       "    .dataframe thead th {\n",
       "        text-align: right;\n",
       "    }\n",
       "</style>\n",
       "<table border=\"1\" class=\"dataframe\">\n",
       "  <thead>\n",
       "    <tr style=\"text-align: right;\">\n",
       "      <th></th>\n",
       "      <th>Product</th>\n",
       "      <th>Age</th>\n",
       "      <th>Gender</th>\n",
       "      <th>Education</th>\n",
       "      <th>MaritalStatus</th>\n",
       "      <th>Usage</th>\n",
       "      <th>Fitness</th>\n",
       "      <th>Income</th>\n",
       "      <th>Miles</th>\n",
       "    </tr>\n",
       "  </thead>\n",
       "  <tbody>\n",
       "  </tbody>\n",
       "</table>\n",
       "</div>"
      ],
      "text/plain": [
       "Empty DataFrame\n",
       "Columns: [Product, Age, Gender, Education, MaritalStatus, Usage, Fitness, Income, Miles]\n",
       "Index: []"
      ]
     },
     "execution_count": 38,
     "metadata": {},
     "output_type": "execute_result"
    }
   ],
   "source": [
    "# checking for blank spaces or empty strings\n",
    "cardio_df[cardio_df['Usage'] == ' ']"
   ]
  },
  {
   "cell_type": "markdown",
   "id": "ec1b58eb",
   "metadata": {},
   "source": [
    "- **Observation on the Usage column**\n",
    "\n",
    "    - 0 missing values\n",
    "    - 0 inconsistencies\n",
    "    - 0 empty strings\n",
    "    - Appropriate datatype"
   ]
  },
  {
   "cell_type": "markdown",
   "id": "1b8e6fc6",
   "metadata": {},
   "source": [
    "### Fitness column"
   ]
  },
  {
   "cell_type": "code",
   "execution_count": 39,
   "id": "89783c1f",
   "metadata": {},
   "outputs": [
    {
     "data": {
      "text/plain": [
       "False"
      ]
     },
     "execution_count": 39,
     "metadata": {},
     "output_type": "execute_result"
    }
   ],
   "source": [
    "cardio_df['Fitness'].isnull().any() # Confirmation that there are no missing values"
   ]
  },
  {
   "cell_type": "code",
   "execution_count": 40,
   "id": "fbb17094",
   "metadata": {},
   "outputs": [
    {
     "data": {
      "text/plain": [
       "dtype('int64')"
      ]
     },
     "execution_count": 40,
     "metadata": {},
     "output_type": "execute_result"
    }
   ],
   "source": [
    "cardio_df['Fitness'].dtypes # Confirmation of the datatype"
   ]
  },
  {
   "cell_type": "code",
   "execution_count": 41,
   "id": "2d308bf5",
   "metadata": {},
   "outputs": [
    {
     "data": {
      "text/plain": [
       "array([4, 3, 2, 1, 5], dtype=int64)"
      ]
     },
     "execution_count": 41,
     "metadata": {},
     "output_type": "execute_result"
    }
   ],
   "source": [
    "# Identifying the possible entries of the 'Fitness' column  \n",
    "cardio_df['Fitness'].unique()"
   ]
  },
  {
   "cell_type": "code",
   "execution_count": 42,
   "id": "eb8d7a0c",
   "metadata": {},
   "outputs": [
    {
     "data": {
      "text/html": [
       "<div>\n",
       "<style scoped>\n",
       "    .dataframe tbody tr th:only-of-type {\n",
       "        vertical-align: middle;\n",
       "    }\n",
       "\n",
       "    .dataframe tbody tr th {\n",
       "        vertical-align: top;\n",
       "    }\n",
       "\n",
       "    .dataframe thead th {\n",
       "        text-align: right;\n",
       "    }\n",
       "</style>\n",
       "<table border=\"1\" class=\"dataframe\">\n",
       "  <thead>\n",
       "    <tr style=\"text-align: right;\">\n",
       "      <th></th>\n",
       "      <th>Product</th>\n",
       "      <th>Age</th>\n",
       "      <th>Gender</th>\n",
       "      <th>Education</th>\n",
       "      <th>MaritalStatus</th>\n",
       "      <th>Usage</th>\n",
       "      <th>Fitness</th>\n",
       "      <th>Income</th>\n",
       "      <th>Miles</th>\n",
       "    </tr>\n",
       "  </thead>\n",
       "  <tbody>\n",
       "  </tbody>\n",
       "</table>\n",
       "</div>"
      ],
      "text/plain": [
       "Empty DataFrame\n",
       "Columns: [Product, Age, Gender, Education, MaritalStatus, Usage, Fitness, Income, Miles]\n",
       "Index: []"
      ]
     },
     "execution_count": 42,
     "metadata": {},
     "output_type": "execute_result"
    }
   ],
   "source": [
    "# checking for blank spaces or empty strings\n",
    "cardio_df[cardio_df['Fitness'] == ' ']"
   ]
  },
  {
   "cell_type": "markdown",
   "id": "3da46057",
   "metadata": {},
   "source": [
    "- **Observation on the Fitness column**\n",
    "\n",
    "    - 0 missing values\n",
    "    - 0 inconsistencies\n",
    "    - 0 empty strings\n",
    "    - Appropriate datatype"
   ]
  },
  {
   "cell_type": "markdown",
   "id": "4057b96f",
   "metadata": {},
   "source": [
    "### Income column"
   ]
  },
  {
   "cell_type": "code",
   "execution_count": 43,
   "id": "4be5e703",
   "metadata": {},
   "outputs": [
    {
     "data": {
      "text/plain": [
       "False"
      ]
     },
     "execution_count": 43,
     "metadata": {},
     "output_type": "execute_result"
    }
   ],
   "source": [
    "cardio_df['Income'].isnull().any() # Confirmation that there are no missing values"
   ]
  },
  {
   "cell_type": "code",
   "execution_count": 44,
   "id": "8b005c9f",
   "metadata": {},
   "outputs": [
    {
     "data": {
      "text/plain": [
       "dtype('int64')"
      ]
     },
     "execution_count": 44,
     "metadata": {},
     "output_type": "execute_result"
    }
   ],
   "source": [
    "cardio_df['Income'].dtypes # Confirmation of the datatype"
   ]
  },
  {
   "cell_type": "code",
   "execution_count": 45,
   "id": "36e0babc",
   "metadata": {},
   "outputs": [
    {
     "data": {
      "text/plain": [
       "array([ 29562,  31836,  30699,  32973,  35247,  37521,  36384,  38658,\n",
       "        40932,  34110,  39795,  42069,  44343,  45480,  46617,  48891,\n",
       "        53439,  43206,  52302,  51165,  50028,  54576,  68220,  55713,\n",
       "        60261,  67083,  56850,  59124,  61398,  57987,  64809,  47754,\n",
       "        65220,  62535,  48658,  54781,  48556,  58516,  53536,  61006,\n",
       "        57271,  52291,  49801,  62251,  64741,  70966,  75946,  74701,\n",
       "        69721,  83416,  88396,  90886,  92131,  77191,  52290,  85906,\n",
       "       103336,  99601,  89641,  95866, 104581,  95508], dtype=int64)"
      ]
     },
     "execution_count": 45,
     "metadata": {},
     "output_type": "execute_result"
    }
   ],
   "source": [
    "# Identifying the possible entries of the 'Income' column  \n",
    "cardio_df['Income'].unique()"
   ]
  },
  {
   "cell_type": "code",
   "execution_count": 46,
   "id": "17f8486d",
   "metadata": {},
   "outputs": [
    {
     "data": {
      "text/html": [
       "<div>\n",
       "<style scoped>\n",
       "    .dataframe tbody tr th:only-of-type {\n",
       "        vertical-align: middle;\n",
       "    }\n",
       "\n",
       "    .dataframe tbody tr th {\n",
       "        vertical-align: top;\n",
       "    }\n",
       "\n",
       "    .dataframe thead th {\n",
       "        text-align: right;\n",
       "    }\n",
       "</style>\n",
       "<table border=\"1\" class=\"dataframe\">\n",
       "  <thead>\n",
       "    <tr style=\"text-align: right;\">\n",
       "      <th></th>\n",
       "      <th>Product</th>\n",
       "      <th>Age</th>\n",
       "      <th>Gender</th>\n",
       "      <th>Education</th>\n",
       "      <th>MaritalStatus</th>\n",
       "      <th>Usage</th>\n",
       "      <th>Fitness</th>\n",
       "      <th>Income</th>\n",
       "      <th>Miles</th>\n",
       "    </tr>\n",
       "  </thead>\n",
       "  <tbody>\n",
       "  </tbody>\n",
       "</table>\n",
       "</div>"
      ],
      "text/plain": [
       "Empty DataFrame\n",
       "Columns: [Product, Age, Gender, Education, MaritalStatus, Usage, Fitness, Income, Miles]\n",
       "Index: []"
      ]
     },
     "execution_count": 46,
     "metadata": {},
     "output_type": "execute_result"
    }
   ],
   "source": [
    "# checking for blank spaces or empty strings\n",
    "cardio_df[cardio_df['Income'] == ' ']"
   ]
  },
  {
   "cell_type": "markdown",
   "id": "963255ed",
   "metadata": {},
   "source": [
    "- **Observation on the Income column**\n",
    "\n",
    "    - 0 missing values\n",
    "    - 0 inconsistencies\n",
    "    - 0 empty strings\n",
    "    - Appropriate datatype"
   ]
  },
  {
   "cell_type": "markdown",
   "id": "49680d09",
   "metadata": {},
   "source": [
    "### Miles column"
   ]
  },
  {
   "cell_type": "code",
   "execution_count": 47,
   "id": "56bfd845",
   "metadata": {},
   "outputs": [
    {
     "data": {
      "text/plain": [
       "False"
      ]
     },
     "execution_count": 47,
     "metadata": {},
     "output_type": "execute_result"
    }
   ],
   "source": [
    "cardio_df['Miles'].isnull().any() # Confirmation that there are no missing values"
   ]
  },
  {
   "cell_type": "code",
   "execution_count": 48,
   "id": "832f02ea",
   "metadata": {},
   "outputs": [
    {
     "data": {
      "text/plain": [
       "dtype('int64')"
      ]
     },
     "execution_count": 48,
     "metadata": {},
     "output_type": "execute_result"
    }
   ],
   "source": [
    "cardio_df['Miles'].dtypes # Confirmation of the datatype"
   ]
  },
  {
   "cell_type": "code",
   "execution_count": 49,
   "id": "d0739690",
   "metadata": {},
   "outputs": [
    {
     "data": {
      "text/plain": [
       "array([112,  75,  66,  85,  47, 141, 103,  94, 113,  38, 188,  56, 132,\n",
       "       169,  64,  53, 106,  95, 212,  42, 127,  74, 170,  21, 120, 200,\n",
       "       140, 100,  80, 160, 180, 240, 150, 300, 280, 260, 360], dtype=int64)"
      ]
     },
     "execution_count": 49,
     "metadata": {},
     "output_type": "execute_result"
    }
   ],
   "source": [
    "# Identifying the possible entries of the 'Miles' column  \n",
    "cardio_df['Miles'].unique()"
   ]
  },
  {
   "cell_type": "code",
   "execution_count": 50,
   "id": "55e0fde6",
   "metadata": {},
   "outputs": [
    {
     "data": {
      "text/html": [
       "<div>\n",
       "<style scoped>\n",
       "    .dataframe tbody tr th:only-of-type {\n",
       "        vertical-align: middle;\n",
       "    }\n",
       "\n",
       "    .dataframe tbody tr th {\n",
       "        vertical-align: top;\n",
       "    }\n",
       "\n",
       "    .dataframe thead th {\n",
       "        text-align: right;\n",
       "    }\n",
       "</style>\n",
       "<table border=\"1\" class=\"dataframe\">\n",
       "  <thead>\n",
       "    <tr style=\"text-align: right;\">\n",
       "      <th></th>\n",
       "      <th>Product</th>\n",
       "      <th>Age</th>\n",
       "      <th>Gender</th>\n",
       "      <th>Education</th>\n",
       "      <th>MaritalStatus</th>\n",
       "      <th>Usage</th>\n",
       "      <th>Fitness</th>\n",
       "      <th>Income</th>\n",
       "      <th>Miles</th>\n",
       "    </tr>\n",
       "  </thead>\n",
       "  <tbody>\n",
       "  </tbody>\n",
       "</table>\n",
       "</div>"
      ],
      "text/plain": [
       "Empty DataFrame\n",
       "Columns: [Product, Age, Gender, Education, MaritalStatus, Usage, Fitness, Income, Miles]\n",
       "Index: []"
      ]
     },
     "execution_count": 50,
     "metadata": {},
     "output_type": "execute_result"
    }
   ],
   "source": [
    "# checking for blank spaces or empty strings\n",
    "cardio_df[cardio_df['Miles'] == ' ']"
   ]
  },
  {
   "cell_type": "markdown",
   "id": "8e2a8622",
   "metadata": {},
   "source": [
    "- **Observation on the Miles column**\n",
    "\n",
    "    - 0 missing values\n",
    "    - 0 inconsistencies\n",
    "    - 0 empty strings\n",
    "    - Appropriate datatype"
   ]
  },
  {
   "cell_type": "markdown",
   "id": "53afe0ca",
   "metadata": {},
   "source": [
    "### Univariate Analysis"
   ]
  },
  {
   "cell_type": "code",
   "execution_count": 51,
   "id": "fbbada97",
   "metadata": {},
   "outputs": [],
   "source": [
    "# function to create labeled barplots\n",
    "\n",
    "def labeled_barplot(data, feature, perc=False, n=None):\n",
    "    \"\"\"\n",
    "    Barplot with percentage at the top\n",
    "\n",
    "    data: dataframe\n",
    "    feature: dataframe column\n",
    "    perc: whether to display percentages instead of count (default is False)\n",
    "    n: displays the top n category levels (default is None, i.e., display all levels)\n",
    "    \"\"\"\n",
    "\n",
    "    total = len(data[feature])  # length of the column\n",
    "    count = data[feature].nunique()\n",
    "    if n is None:\n",
    "        plt.figure(figsize=(count + 1, 5))\n",
    "    else:\n",
    "        plt.figure(figsize=(n + 1, 5))\n",
    "\n",
    "    plt.xticks(rotation=90, fontsize=12)\n",
    "    ax = sns.countplot(\n",
    "        data=data,\n",
    "        x=feature,\n",
    "        palette=\"colorblind\",\n",
    "        order=data[feature].value_counts().index[:n].sort_values(),\n",
    "    )\n",
    "\n",
    "    for p in ax.patches:\n",
    "        if perc == True:\n",
    "            label = \"{:.1f}%\".format(\n",
    "                100 * p.get_height() / total\n",
    "            )  # percentage of each class of the category\n",
    "        else:\n",
    "            label = p.get_height()  # count of each level of the category\n",
    "\n",
    "        x = p.get_x() + p.get_width() / 2  # width of the plot\n",
    "        y = p.get_height()  # height of the plot\n",
    "\n",
    "        ax.annotate(\n",
    "            label,\n",
    "            (x, y),\n",
    "            ha=\"center\",\n",
    "            va=\"center\",\n",
    "            size=12,\n",
    "            xytext=(0, 5),\n",
    "            textcoords=\"offset points\",\n",
    "        )  # annotate the percentage\n",
    "\n",
    "    plt.savefig(feature) # to save the plot to my folder\n",
    "    plt.show()  # show the plot"
   ]
  },
  {
   "cell_type": "code",
   "execution_count": 52,
   "id": "34ab6c9e",
   "metadata": {},
   "outputs": [
    {
     "data": {
      "image/png": "[encoded data removed]",
      "text/plain": [
       "<Figure size 400x500 with 1 Axes>"
      ]
     },
     "metadata": {},
     "output_type": "display_data"
    }
   ],
   "source": [
    "# Calling the above function on the Product column\n",
    "\n",
    "labeled_barplot(data = cardio_df,feature ='Product', perc = True)"
   ]
  },
  {
   "cell_type": "markdown",
   "id": "9d03f771",
   "metadata": {},
   "source": [
    "**REPORT OF THE ANALYSIS**\n",
    "- Largest percentage of the customers(44.4%) purchased product TM195, which makes it the leading product.\n",
    "- While 33.3% of the total number of customers purchased TM498\n",
    "- And other customers (22.2%) purchased TM798"
   ]
  },
  {
   "cell_type": "code",
   "execution_count": 53,
   "id": "3f77f061",
   "metadata": {},
   "outputs": [
    {
     "data": {
      "text/plain": [
       "8"
      ]
     },
     "execution_count": 53,
     "metadata": {},
     "output_type": "execute_result"
    }
   ],
   "source": [
    "# Deriving the bin number for a bin width of 4\n",
    "age_max = cardio_df['Age'].max()\n",
    "age_min = cardio_df['Age'].min()\n",
    "binwidth = 4\n",
    "\n",
    "no_of_bins = (age_max - age_min) // binwidth\n",
    "no_of_bins"
   ]
  },
  {
   "cell_type": "code",
   "execution_count": 54,
   "id": "de94cd99",
   "metadata": {},
   "outputs": [
    {
     "data": {
      "image/png": "[encoded data removed]",
      "text/plain": [
       "<Figure size 640x480 with 1 Axes>"
      ]
     },
     "metadata": {},
     "output_type": "display_data"
    }
   ],
   "source": [
    "# Plotting the Age column\n",
    "sns.histplot(data = cardio_df, x = 'Age', bins = no_of_bins); #the semicolon clears the unwanted information that displays at the top\n",
    "plt.title('Histogram of Age')\n",
    "plt.xlabel('Age (Years)')\n",
    "plt.savefig('Age_histogram.png') # to save the plot to my folder"
   ]
  },
  {
   "cell_type": "markdown",
   "id": "07cbca91",
   "metadata": {},
   "source": [
    "**REPORT OF THE ANALYSIS**\n",
    "- This distribution is right skewed, which means that there are few older customers in the data\n",
    "\n",
    "- There are more customers within the age range of 25 - 26"
   ]
  },
  {
   "cell_type": "code",
   "execution_count": 55,
   "id": "d931fec4",
   "metadata": {},
   "outputs": [
    {
     "data": {
      "image/png": "[encoded data removed]",
      "text/plain": [
       "<Figure size 300x500 with 1 Axes>"
      ]
     },
     "metadata": {},
     "output_type": "display_data"
    }
   ],
   "source": [
    "# Calling the defined function on the Gender column\n",
    "\n",
    "labeled_barplot(data = cardio_df,feature = 'Gender', perc = True)"
   ]
  },
  {
   "cell_type": "markdown",
   "id": "32b96a9c",
   "metadata": {},
   "source": [
    "**REPORT OF THE ANALYSIS**\n",
    "- The majority of customers (57.8%) are male.\n",
    "- While the remaining customers (42.2%) are female."
   ]
  },
  {
   "cell_type": "code",
   "execution_count": 56,
   "id": "2a5c2442",
   "metadata": {},
   "outputs": [
    {
     "data": {
      "image/png": "[encoded data removed]",
      "text/plain": [
       "<Figure size 640x480 with 1 Axes>"
      ]
     },
     "metadata": {},
     "output_type": "display_data"
    }
   ],
   "source": [
    "# Plotting the Education column\n",
    "sns.boxplot(x = 'Education', data = cardio_df); #the semicolon clears the unwanted information that displays at the top\n",
    "plt.title('Boxplot of Education')\n",
    "plt.xlabel('Education (Years)')\n",
    "plt.savefig('Education_boxplot.png') # to save the plot to my folder"
   ]
  },
  {
   "cell_type": "markdown",
   "id": "2a4697fd",
   "metadata": {},
   "source": [
    "**REPORT OF THE ANALYSIS**\n",
    "- The lower whisker that is not considered outlier is 12\n",
    "\n",
    "- The upper whisker that is not considered outlier is 18\n",
    "\n",
    "- The lower quartile is 14\n",
    "\n",
    "- The median and Upper quartile are 16\n",
    "\n",
    "\n",
    "- **Notable Outliers:** These are the individual data points that are further away from the rest of the data and are plotted as individual points beyond the whiskers. They are are more than 1.5 times the interquartile range (the distance between the 75th percentile and the 25th percentile) away from the nearest quartile."
   ]
  },
  {
   "cell_type": "code",
   "execution_count": 57,
   "id": "0013d7a4",
   "metadata": {},
   "outputs": [
    {
     "data": {
      "image/png": "[encoded data removed]",
      "text/plain": [
       "<Figure size 300x500 with 1 Axes>"
      ]
     },
     "metadata": {},
     "output_type": "display_data"
    }
   ],
   "source": [
    "# Calling the defined function on the Marital Status column\n",
    "\n",
    "labeled_barplot(data = cardio_df,feature = 'MaritalStatus', perc = True)"
   ]
  },
  {
   "cell_type": "markdown",
   "id": "0a8f5891",
   "metadata": {},
   "source": [
    "**REPORT OF THE ANALYSIS**\n",
    "- The majority of customers (59.4%) are partnered.\n",
    "- While the remaining customers (40.6%) are single."
   ]
  },
  {
   "cell_type": "code",
   "execution_count": 58,
   "id": "63fadd3e",
   "metadata": {},
   "outputs": [
    {
     "data": {
      "image/png": "[encoded data removed]",
      "text/plain": [
       "<Figure size 640x480 with 1 Axes>"
      ]
     },
     "metadata": {},
     "output_type": "display_data"
    }
   ],
   "source": [
    "# Plotting the Usage column\n",
    "sns.histplot(data = cardio_df, x = 'Usage', bins = 6); # the bins number is the total number of entries\n",
    "plt.title('Histogram of Usage')\n",
    "plt.xlabel('Usage (Weekly Average Time)')\n",
    "plt.savefig('Usage_histogram.png') # to save the plot to my folder"
   ]
  },
  {
   "cell_type": "markdown",
   "id": "4ef8c3ff",
   "metadata": {},
   "source": [
    "**REPORT OF THE ANALYSIS**\n",
    "- This distribution is right skewed, which means that few customers have higher average weekly usage time in the data\n",
    "\n",
    "- Significant majority of the customers want to use the treadmill 3 times every week\n",
    "\n",
    "- Few customers want to use the treadmill 6 times and more every week"
   ]
  },
  {
   "cell_type": "code",
   "execution_count": 59,
   "id": "b97b96a1",
   "metadata": {},
   "outputs": [
    {
     "data": {
      "image/png": "[encoded data removed]",
      "text/plain": [
       "<Figure size 640x480 with 1 Axes>"
      ]
     },
     "metadata": {},
     "output_type": "display_data"
    }
   ],
   "source": [
    "# Plotting the Fitness column\n",
    "sns.histplot(data = cardio_df, x = 'Fitness', bins = 5); # the bins number is the total number of entries\n",
    "plt.title('Histogram of Fitness')\n",
    "plt.xlabel('Fitness (Score)')\n",
    "plt.savefig('Fitness_histogram.png') # to save the plot to my folder"
   ]
  },
  {
   "cell_type": "markdown",
   "id": "1b064b0e",
   "metadata": {},
   "source": [
    "**REPORT OF THE ANALYSIS**\n",
    "- Significant majority of the customers are fit \n",
    "- Insignificant minority of the customers are very unfit\n",
    "- And a moderate proportion of the customers are very fit"
   ]
  },
  {
   "cell_type": "code",
   "execution_count": 60,
   "id": "f2dd3fb3",
   "metadata": {},
   "outputs": [
    {
     "data": {
      "image/png": "[encoded data removed]",
      "text/plain": [
       "<Figure size 640x480 with 1 Axes>"
      ]
     },
     "metadata": {},
     "output_type": "display_data"
    }
   ],
   "source": [
    "# Plotting the Income column\n",
    "sns.boxplot(x = 'Income', data = cardio_df); #the semicolon clears the unwanted information that displays at the top\n",
    "plt.title('Boxplot of Income')\n",
    "plt.xlabel('Income (£/Annum)')\n",
    "plt.savefig('Income_boxplot.png') # to save the plot to my folder"
   ]
  },
  {
   "cell_type": "markdown",
   "id": "ecce1c9e",
   "metadata": {},
   "source": [
    "**REPORT OF THE ANALYSIS**\n",
    "- The lower whisker that is not considered outlier is approximately 30000\n",
    "\n",
    "- The upper whisker that is not considered outlier is just below 80000\n",
    "\n",
    "- The lower quartile is 44000\n",
    "\n",
    "- The median is slightly above 50000 \n",
    "\n",
    "- The upper quartile is approximately 59000\n",
    "\n",
    "- This plot does not represent a normal distribution\n",
    "\n",
    "- **Notable Outliers:** These are some customers income that are further away or much more higher from the rest and are plotted as individual points beyond the whiskers. They are are more than 1.5 times the interquartile range away from the nearest quartile."
   ]
  },
  {
   "cell_type": "code",
   "execution_count": 61,
   "id": "9042744b",
   "metadata": {},
   "outputs": [
    {
     "data": {
      "text/plain": [
       "16"
      ]
     },
     "execution_count": 61,
     "metadata": {},
     "output_type": "execute_result"
    }
   ],
   "source": [
    "# Deriving the bin number for a bin width of 5\n",
    "miles_max = cardio_df['Miles'].max()\n",
    "miles_min = cardio_df['Miles'].min()\n",
    "binwidth = 20\n",
    "\n",
    "no_of_bins = (miles_max - miles_min) // binwidth\n",
    "no_of_bins"
   ]
  },
  {
   "cell_type": "code",
   "execution_count": 62,
   "id": "2c9883ff",
   "metadata": {},
   "outputs": [
    {
     "data": {
      "image/png": "[encoded data removed]",
      "text/plain": [
       "<Figure size 640x480 with 1 Axes>"
      ]
     },
     "metadata": {},
     "output_type": "display_data"
    }
   ],
   "source": [
    "# Plotting the Miles column\n",
    "sns.histplot(data = cardio_df, x = 'Miles', bins = no_of_bins); #the semicolon clears the unwanted information that displays at the top\n",
    "plt.title('Histogram of Miles')\n",
    "plt.xlabel('Miles to Run')\n",
    "plt.savefig('Miles_histogram.png') # to save the plot to my folder"
   ]
  },
  {
   "cell_type": "markdown",
   "id": "0d9ed77e",
   "metadata": {},
   "source": [
    "**REPORT OF THE ANALYSIS**\n",
    "- This distribution is right skewed, which means that just few customers expect to run more than 200 miles\n",
    "\n",
    "- Significant majority of the customers expect to run 100 miles"
   ]
  },
  {
   "cell_type": "markdown",
   "id": "33d6fe11",
   "metadata": {},
   "source": [
    "### Multivariate Analysis"
   ]
  },
  {
   "cell_type": "code",
   "execution_count": 63,
   "id": "5e226b17",
   "metadata": {},
   "outputs": [
    {
     "data": {
      "image/png": "[encoded data removed]",
      "text/plain": [
       "<Figure size 640x480 with 1 Axes>"
      ]
     },
     "metadata": {},
     "output_type": "display_data"
    }
   ],
   "source": [
    "# Age against Usage Time\n",
    "sns.scatterplot(x = 'Age', y = 'Usage', data = cardio_df)\n",
    "plt.title('Plot of Customers Age vs Treadmill Weekly Usage')\n",
    "plt.xlabel('Age (Years)')\n",
    "plt.ylabel('Usage (Weekly Average Time)')\n",
    "plt.show()"
   ]
  },
  {
   "cell_type": "code",
   "execution_count": 64,
   "id": "5bc093cb",
   "metadata": {},
   "outputs": [
    {
     "name": "stdout",
     "output_type": "stream",
     "text": [
      "Correlation Coefficient: 0.015064469362853633\n"
     ]
    }
   ],
   "source": [
    "# calculate correlation coefficient for better understanding\n",
    "corr_coef = cardio_df['Age'].corr(cardio_df['Usage'])\n",
    "\n",
    "print(\"Correlation Coefficient:\", corr_coef)"
   ]
  },
  {
   "cell_type": "markdown",
   "id": "bb4f015e",
   "metadata": {},
   "source": [
    "**REPORT OF THE ANALYSIS**\n",
    "- The scatterplot suggests a very weak positive correlation between customers Age and treadmill weekly Usage.\n",
    "\n",
    "- There is a curvilinear relationship between the two variables."
   ]
  },
  {
   "cell_type": "code",
   "execution_count": 65,
   "id": "f4904570",
   "metadata": {},
   "outputs": [
    {
     "data": {
      "image/png": "[encoded data removed]",
      "text/plain": [
       "<Figure size 640x480 with 1 Axes>"
      ]
     },
     "metadata": {},
     "output_type": "display_data"
    }
   ],
   "source": [
    "# Fitness against Miles\n",
    "sns.scatterplot(x = 'Fitness', y = 'Miles', data = cardio_df)\n",
    "plt.title('Plot of Customers Fitness rate vs Miles to Run')\n",
    "plt.xlabel('Fitness')\n",
    "plt.ylabel('Miles')\n",
    "plt.show()"
   ]
  },
  {
   "cell_type": "code",
   "execution_count": 66,
   "id": "9ca49721",
   "metadata": {},
   "outputs": [
    {
     "name": "stdout",
     "output_type": "stream",
     "text": [
      "Correlation Coefficient: 0.7857017433982376\n"
     ]
    }
   ],
   "source": [
    "# calculate correlation coefficient for better understanding\n",
    "corr_coef = cardio_df['Fitness'].corr(cardio_df['Miles'])\n",
    "\n",
    "print(\"Correlation Coefficient:\", corr_coef)"
   ]
  },
  {
   "cell_type": "markdown",
   "id": "1e92185d",
   "metadata": {},
   "source": [
    "**REPORT OF THE ANALYSIS**\n",
    "- The scatterplot shows that a strong positive relationship exists between fitness rate and miles to run.\n",
    "\n",
    "- This can be identified in the scatterplot pattern as it rises from left to right."
   ]
  },
  {
   "cell_type": "code",
   "execution_count": 67,
   "id": "209f10f8",
   "metadata": {},
   "outputs": [
    {
     "data": {
      "image/png": "[encoded data removed]",
      "text/plain": [
       "<Figure size 640x480 with 1 Axes>"
      ]
     },
     "metadata": {},
     "output_type": "display_data"
    }
   ],
   "source": [
    "# Education against Income\n",
    "sns.scatterplot(x = 'Education', y = 'Income', data = cardio_df)\n",
    "plt.title('Plot of Customers years of Education vs Income Earned')\n",
    "plt.xlabel('Education')\n",
    "plt.ylabel('Income')\n",
    "plt.show()"
   ]
  },
  {
   "cell_type": "markdown",
   "id": "61837a08",
   "metadata": {},
   "source": [
    "**REPORT OF THE ANALYSIS**\n",
    "- The scatterplot shows that a moderate positive relationship exists between Customers Years of Education and Income Earned.\n",
    "\n",
    "- This can be identified in the scatterplot pattern as it rises from left to right then gradually declined."
   ]
  },
  {
   "cell_type": "code",
   "execution_count": 68,
   "id": "302f215a",
   "metadata": {},
   "outputs": [
    {
     "data": {
      "image/png": "[encoded data removed]",
      "text/plain": [
       "<Figure size 640x480 with 1 Axes>"
      ]
     },
     "metadata": {},
     "output_type": "display_data"
    }
   ],
   "source": [
    "# Age against Income conditioned by Gender\n",
    "sns.scatterplot(x = 'Age', y = 'Income', data = cardio_df, hue = 'Gender')\n",
    "plt.title('Plot of Age vs Income conditioned by Gender')\n",
    "plt.xlabel('Age (Years)')\n",
    "plt.ylabel('Income(£)')\n",
    "plt.show()"
   ]
  },
  {
   "cell_type": "code",
   "execution_count": 69,
   "id": "549e2f25",
   "metadata": {},
   "outputs": [
    {
     "name": "stdout",
     "output_type": "stream",
     "text": [
      "Gender\n",
      "Female    0.517768\n",
      "Male      0.523334\n",
      "dtype: float64\n"
     ]
    }
   ],
   "source": [
    "# Calculate the correlation coefficient for Age and Income, conditioned by Gender for better relationship understanding\n",
    "correlation_coefficients = cardio_df.groupby('Gender').apply(lambda x: np.corrcoef(x['Age'], x['Income'])[0,1])\n",
    "# groups the data by the \"Gender\" column using the \"groupby()\" function, apply a lambda function to each group of data\n",
    "# the lambda function uses the \"corrcoef()\" function from numpy to calculate the correlation coefficient between Age and Income for each group of data\n",
    "# the \"[0,1]\" index is used to extract the correlation coefficient from the output of \"corrcoef()\"\n",
    "print(correlation_coefficients)"
   ]
  },
  {
   "cell_type": "markdown",
   "id": "d6d4b8b1",
   "metadata": {},
   "source": [
    "**REPORT OF THE ANALYSIS**\n",
    "- The scatterplot shows that a moderate positive relationship exists between each Gender and the Age and Income Earned.\n"
   ]
  },
  {
   "cell_type": "markdown",
   "id": "2c7cda59",
   "metadata": {},
   "source": [
    "### Customer Profile of the Different Products"
   ]
  },
  {
   "cell_type": "code",
   "execution_count": 70,
   "id": "7c4bd063",
   "metadata": {},
   "outputs": [
    {
     "name": "stdout",
     "output_type": "stream",
     "text": [
      "\n",
      "Customer profile for TM195:\n",
      "Age range: 18-50\n",
      "Gender distribution: {'Male': 40, 'Female': 40}\n",
      "Education distribution: {16: 39, 14: 30, 15: 4, 13: 3, 12: 2, 18: 2}\n",
      "Marital status distribution: {'Partnered': 48, 'Single': 32}\n",
      "Usage distribution: {3: 37, 4: 22, 2: 19, 5: 2}\n",
      "Fitness distribution: {3: 54, 2: 14, 4: 9, 5: 2, 1: 1}\n",
      "Income range: £29562-£68220\n",
      "Miles range: 38-188\n",
      "\n",
      "Customer profile for TM498:\n",
      "Age range: 19-48\n",
      "Gender distribution: {'Male': 31, 'Female': 29}\n",
      "Education distribution: {16: 31, 14: 23, 13: 2, 18: 2, 12: 1, 15: 1}\n",
      "Marital status distribution: {'Partnered': 36, 'Single': 24}\n",
      "Usage distribution: {3: 31, 2: 14, 4: 12, 5: 3}\n",
      "Fitness distribution: {3: 39, 2: 12, 4: 8, 1: 1}\n",
      "Income range: £31836-£67083\n",
      "Miles range: 21-212\n",
      "\n",
      "Customer profile for TM798:\n",
      "Age range: 22-48\n",
      "Gender distribution: {'Male': 33, 'Female': 7}\n",
      "Education distribution: {18: 19, 16: 15, 21: 3, 14: 2, 20: 1}\n",
      "Marital status distribution: {'Partnered': 23, 'Single': 17}\n",
      "Usage distribution: {4: 18, 5: 12, 6: 7, 7: 2, 3: 1}\n",
      "Fitness distribution: {5: 29, 4: 7, 3: 4}\n",
      "Income range: £48556-£104581\n",
      "Miles range: 80-360\n"
     ]
    }
   ],
   "source": [
    "# Create customer profiles for each product\n",
    "product_profiles = {}\n",
    "for product in cardio_df['Product'].unique():\n",
    "    product_df =  cardio_df[cardio_df['Product'] == product]\n",
    "    profile = {}\n",
    "    profile['product_name'] = product\n",
    "    profile['age_range'] = '{}-{}'.format(product_df['Age'].min(), product_df['Age'].max())\n",
    "    profile['gender_distribution'] = dict(product_df['Gender'].value_counts())\n",
    "    profile['education_distribution'] = dict(product_df['Education'].value_counts())\n",
    "    profile['marital_status_distribution'] = dict(product_df['MaritalStatus'].value_counts())\n",
    "    profile['usage_distribution'] = dict(product_df['Usage'].value_counts())\n",
    "    profile['fitness_distribution'] = dict(product_df['Fitness'].value_counts())\n",
    "    profile['income_range'] = '£{}-£{}'.format(product_df['Income'].min(), product_df['Income'].max())\n",
    "    profile['miles_range'] = '{}-{}'.format(product_df['Miles'].min(), product_df['Miles'].max())\n",
    "    product_profiles[product] = profile\n",
    "\n",
    "# Print customer profiles for each product\n",
    "for product, profile in product_profiles.items():\n",
    "    print('\\nCustomer profile for {}:'.format(product))\n",
    "    print('Age range: {}'.format(profile['age_range']))\n",
    "    print('Gender distribution: {}'.format(profile['gender_distribution']))\n",
    "    print('Education distribution: {}'.format(profile['education_distribution']))\n",
    "    print('Marital status distribution: {}'.format(profile['marital_status_distribution']))\n",
    "    print('Usage distribution: {}'.format(profile['usage_distribution']))\n",
    "    print('Fitness distribution: {}'.format(profile['fitness_distribution']))\n",
    "    print('Income range: {}'.format(profile['income_range']))\n",
    "    print('Miles range: {}'.format(profile['miles_range']))\n"
   ]
  },
  {
   "cell_type": "markdown",
   "id": "e6b1c21e",
   "metadata": {},
   "source": [
    "**REPORT OF THE ANALYSIS**\n",
    "\n",
    "The customer profiles provide information on the distribution of various characteristics for customers who purchased three different treadmill products (TM195, TM498, TM798).\n",
    "\n",
    "- **Product TM195:** The age range of customers who purchased this product is 18-50, with an equal gender distribution of 40 males and 40 females. The majority of customers have an education level of 16, then followed by 14 with a range of 12-18. Most customers are partnered (48) as compared to single (32). Customers use the product for a range of 2-5 times per week, with 3 times being the highest weekly usage. A Significant majority of the customers who purchased this product are fit with a fitness rating of 3 in a rating range of 1-5. The income range is £29562 - £68220, and customers expect to run a range of 38-188 miles.\n",
    "\n",
    "\n",
    "- **Product TM498:** The age range of customers who purchased this product is 19-48, with slightly more male customers (31) than females (29). The majority of customers have an education level of 16, then followed by 14 with a range of 12-18. Most customers are partnered (36) as compared to single (24). Customers use the product for a range of 2-5 times per week, with 3 times being the highest weekly usage. Majority of the customers who purchased this product are fit with a fitness rating of 3 in a rating range of 1-4. The income range is £31836 - £67083, and customers expect to run a range of 21-212 miles.\n",
    "\n",
    "\n",
    "- **Product TM798:** The age range of customers who purchased this product is 22-48, with significantly more male customers (33) than females (7). The majority of customers have an education level of 18, then followed by 16 with a range of 14-21. Most customers are partnered (23) as compared to single (17). Customers use the product for a range of 3-7 times per week, with 4 times being the highest weekly usage. A Significant majority of the customers who purchased this product are very fit with a fitness rating of 5. The income range is £48556 - £104581, and customers expect to run a range of 80-360 miles."
   ]
  },
  {
   "cell_type": "markdown",
   "id": "7a7f217f",
   "metadata": {},
   "source": [
    "## Insights and Recommendations that will help the Company in targeting new customers"
   ]
  },
  {
   "cell_type": "markdown",
   "id": "d28c26f8",
   "metadata": {},
   "source": [
    "#### AGE:\n",
    "The age range of customers varies across the different products, with the TM195 having the widest age range of 18-50, while the TM798 has the narrowest age range of 22-48. With this information, Cardio Good Fitness can target specific age groups for each product, for example, younger customers for the TM195 and older, more fitness-focused customers for the TM798.\n",
    "#### GENDER:\n",
    "The gender distribution is relatively balanced across the different products, with the exception of the TM798 which has a majority male customer base. The company may want to consider marketing the TM798 towards women to increase sales and broaden their customer base.\n",
    "#### EDUCATION:\n",
    "The TM195 and TM498 have similar education distributions, with a majority having a high school diploma and some college education. On the other hand, the TM798 has a higher proportion of customers with a college degree or higher. The company should tailor their marketing campaigns for each product to appeal to the education levels of their target customer base.\n",
    "#### MARITAL STATUS:\n",
    "The majority of customers for all three products are partnered, with the TM798 having a slightly higher proportion of single customers. The company may want to consider targeting single customers for the TM798 with marketing campaigns that focus on the product's ability to help them achieve their fitness goals and improve their social life.\n",
    "#### USAGE:\n",
    "The TM195 has the widest usage distribution, with a majority of customers using it for 3 times a week, while the TM798 has a higher proportion of customers using it for 4 or more times a week. The company can use this information to target customers based on their desired usage of the product, for example, targeting beginners with the TM195 and more experienced users with the TM798.\n",
    "#### FITNESS:\n",
    "The TM195 has a majority of customers with a fitness rating of 3, while the TM798 has a majority of customers with a fitness rating of 5. The company can target customers based on their desired fitness level, for example, targeting customers who are just starting their fitness journey with the TM195 and targeting more advanced users with the TM798.\n",
    "#### INCOME:\n",
    "The income range varies across the different products, with the TM798 having the highest income range of £48556-£104581. The company may want to target higher income customers for the TM798 by highlighting the product's premium features and benefits.\n",
    "#### MILES: \n",
    "Product TM798 has the highest miles range, indicating that customers who purchase this product are more likely to use it for longer distances. The company may want to target long-distance runners with the TM798 by emphasizing the product's durability and performance."
   ]
  }
 ],
 "metadata": {
  "kernelspec": {
   "display_name": "Python 3 (ipykernel)",
   "language": "python",
   "name": "python3"
  },
  "language_info": {
   "codemirror_mode": {
    "name": "ipython",
    "version": 3
   },
   "file_extension": ".py",
   "mimetype": "text/x-python",
   "name": "python",
   "nbconvert_exporter": "python",
   "pygments_lexer": "ipython3",
   "version": "3.9.13"
  }
 },
 "nbformat": 4,
 "nbformat_minor": 5
}
